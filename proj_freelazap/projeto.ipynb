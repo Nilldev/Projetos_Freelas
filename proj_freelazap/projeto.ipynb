{
 "cells": [
  {
   "cell_type": "code",
   "execution_count": 5,
   "metadata": {},
   "outputs": [],
   "source": [
    "# Automação de encaminhamento de mensagens no whatsapp\n",
    "# Usando a funcionalidade nativa do whatsapp de encaminhar mensagem\n",
    "# Encaminhar de 5 em 5 mensagens"
   ]
  },
  {
   "cell_type": "code",
   "execution_count": 18,
   "metadata": {},
   "outputs": [],
   "source": [
    "from selenium import webdriver \n",
    "from selenium.webdriver.chrome.service import Service\n",
    "from webdriver_manager.chrome import ChromeDriverManager\n",
    "\n",
    "\n",
    "service = Service(ChromeDriverManager().install())\n",
    "nav = webdriver.Chrome(service=service)\n",
    "nav.get(\"https://web.whatsapp.com\")"
   ]
  },
  {
   "cell_type": "code",
   "execution_count": null,
   "metadata": {},
   "outputs": [],
   "source": [
    "from selenium.webdriver.common.keys import Keys\n",
    "import pyperclip\n",
    "import time\n",
    "\n",
    "\n",
    "mensagem = \"\"\"Mu pai já testou o som com disco? quando colocar um disco me manda um video!\"\"\"\n",
    "\n",
    "lista_contatos =[\"Eu\",\"Família Bafônica\", \"Mãezona\"]\n",
    "\n",
    "nav.find_element('xpath', '//*[@id=\"side\"]/div[1]/div/div/button/div[2]/span').click()\n",
    "nav.find_element('xpath','//*[@id=\"side\"]/div[1]/div/div/div[2]/div/div[1]/p').send_keys(\"Mãezona\")\n",
    "nav.find_element('xpath','//*[@id=\"side\"]/div[1]/div/div/div[2]/div/div[1]/p').send_keys(Keys.ENTER)\n",
    "time.sleep(1)\n",
    "\n",
    "\n",
    "\n",
    "pyperclip.copy(mensagem)\n",
    "nav.find_element('xpath','//*[@id=\"main\"]/footer/div[1]/div/span[2]/div/div[2]/div[1]/div/div[1]/p').send_keys(Keys.CONTROL + \"v\" )\n",
    "nav.find_element('xpath','//*[@id=\"main\"]/footer/div[1]/div/span[2]/div/div[2]/div[1]/div/div[1]/p').send_keys(Keys.ENTER )\n",
    "time(2)\n",
    "\n",
    "\n"
   ]
  },
  {
   "cell_type": "code",
   "execution_count": null,
   "metadata": {},
   "outputs": [],
   "source": [
    "from selenium.webdriver.common.action_chains import ActionChains\n",
    "\n",
    "lista_elementos = nav.find_elements('class name', \"_2AOIt\")\n",
    "for item in lista_elementos:\n",
    "    mensagem =mensagem.replace(\"\\n\", \"\")\n",
    "    texto = item.text.replace(\"\\n\", \"\")\n",
    "    elemento = item\n",
    "    break\n",
    "\n",
    "\n",
    "\n",
    "ActionChains(nav).move_to_element(elemento).perform()\n",
    "elemento.find_element('class name', '_3u9t-').click()\n",
    "nav.find_element('xpath', '//*[@id=\"app\"]/div/span[4]/div/ul/div/li[4]/div').click()\n",
    "#nav.find_element('xpath', '')\n",
    "\n",
    "\n",
    "\n",
    "\n",
    "\n"
   ]
  }
 ],
 "metadata": {
  "kernelspec": {
   "display_name": "Python 3",
   "language": "python",
   "name": "python3"
  },
  "language_info": {
   "codemirror_mode": {
    "name": "ipython",
    "version": 3
   },
   "file_extension": ".py",
   "mimetype": "text/x-python",
   "name": "python",
   "nbconvert_exporter": "python",
   "pygments_lexer": "ipython3",
   "version": "3.11.5"
  },
  "orig_nbformat": 4
 },
 "nbformat": 4,
 "nbformat_minor": 2
}
